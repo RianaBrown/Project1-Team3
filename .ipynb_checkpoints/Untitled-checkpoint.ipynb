{
 "cells": [
  {
   "cell_type": "code",
   "execution_count": 1,
   "id": "3420f53c",
   "metadata": {},
   "outputs": [],
   "source": [
    "import pandas as pd\n",
    "import matplotlib.pyplot as plt\n",
    "from pathlib import Path\n"
   ]
  },
  {
   "cell_type": "code",
   "execution_count": 2,
   "id": "406732ab",
   "metadata": {},
   "outputs": [
    {
     "data": {
      "text/html": [
       "<div>\n",
       "<style scoped>\n",
       "    .dataframe tbody tr th:only-of-type {\n",
       "        vertical-align: middle;\n",
       "    }\n",
       "\n",
       "    .dataframe tbody tr th {\n",
       "        vertical-align: top;\n",
       "    }\n",
       "\n",
       "    .dataframe thead th {\n",
       "        text-align: right;\n",
       "    }\n",
       "</style>\n",
       "<table border=\"1\" class=\"dataframe\">\n",
       "  <thead>\n",
       "    <tr style=\"text-align: right;\">\n",
       "      <th></th>\n",
       "      <th>year</th>\n",
       "      <th>month</th>\n",
       "      <th>intent</th>\n",
       "      <th>police</th>\n",
       "      <th>sex</th>\n",
       "      <th>age</th>\n",
       "      <th>race</th>\n",
       "      <th>place</th>\n",
       "      <th>education</th>\n",
       "    </tr>\n",
       "  </thead>\n",
       "  <tbody>\n",
       "    <tr>\n",
       "      <th>0</th>\n",
       "      <td>2012</td>\n",
       "      <td>1</td>\n",
       "      <td>Suicide</td>\n",
       "      <td>0</td>\n",
       "      <td>M</td>\n",
       "      <td>34.0</td>\n",
       "      <td>Asian/Pacific Islander</td>\n",
       "      <td>Home</td>\n",
       "      <td>BA+</td>\n",
       "    </tr>\n",
       "    <tr>\n",
       "      <th>1</th>\n",
       "      <td>2012</td>\n",
       "      <td>1</td>\n",
       "      <td>Suicide</td>\n",
       "      <td>0</td>\n",
       "      <td>F</td>\n",
       "      <td>21.0</td>\n",
       "      <td>White</td>\n",
       "      <td>Street</td>\n",
       "      <td>Some college</td>\n",
       "    </tr>\n",
       "    <tr>\n",
       "      <th>2</th>\n",
       "      <td>2012</td>\n",
       "      <td>1</td>\n",
       "      <td>Suicide</td>\n",
       "      <td>0</td>\n",
       "      <td>M</td>\n",
       "      <td>60.0</td>\n",
       "      <td>White</td>\n",
       "      <td>Other specified</td>\n",
       "      <td>BA+</td>\n",
       "    </tr>\n",
       "    <tr>\n",
       "      <th>3</th>\n",
       "      <td>2012</td>\n",
       "      <td>2</td>\n",
       "      <td>Suicide</td>\n",
       "      <td>0</td>\n",
       "      <td>M</td>\n",
       "      <td>64.0</td>\n",
       "      <td>White</td>\n",
       "      <td>Home</td>\n",
       "      <td>BA+</td>\n",
       "    </tr>\n",
       "    <tr>\n",
       "      <th>4</th>\n",
       "      <td>2012</td>\n",
       "      <td>2</td>\n",
       "      <td>Suicide</td>\n",
       "      <td>0</td>\n",
       "      <td>M</td>\n",
       "      <td>31.0</td>\n",
       "      <td>White</td>\n",
       "      <td>Other specified</td>\n",
       "      <td>HS/GED</td>\n",
       "    </tr>\n",
       "  </tbody>\n",
       "</table>\n",
       "</div>"
      ],
      "text/plain": [
       "   year  month   intent  police sex   age                    race  \\\n",
       "0  2012      1  Suicide       0   M  34.0  Asian/Pacific Islander   \n",
       "1  2012      1  Suicide       0   F  21.0                   White   \n",
       "2  2012      1  Suicide       0   M  60.0                   White   \n",
       "3  2012      2  Suicide       0   M  64.0                   White   \n",
       "4  2012      2  Suicide       0   M  31.0                   White   \n",
       "\n",
       "             place     education  \n",
       "0             Home           BA+  \n",
       "1           Street  Some college  \n",
       "2  Other specified           BA+  \n",
       "3             Home           BA+  \n",
       "4  Other specified        HS/GED  "
      ]
     },
     "execution_count": 2,
     "metadata": {},
     "output_type": "execute_result"
    }
   ],
   "source": [
    "#import csv file\n",
    "csv_path = Path(\"gun_deaths.csv\")\n",
    "\n",
    "#read data into dataframe\n",
    "df = pd.read_csv(csv_path)\n",
    "\n",
    "df.head()"
   ]
  },
  {
   "cell_type": "code",
   "execution_count": 3,
   "id": "27c949b2",
   "metadata": {},
   "outputs": [
    {
     "name": "stdout",
     "output_type": "stream",
     "text": [
      "<class 'pandas.core.frame.DataFrame'>\n",
      "RangeIndex: 100798 entries, 0 to 100797\n",
      "Data columns (total 9 columns):\n",
      " #   Column     Non-Null Count   Dtype  \n",
      "---  ------     --------------   -----  \n",
      " 0   year       100798 non-null  int64  \n",
      " 1   month      100798 non-null  int64  \n",
      " 2   intent     100797 non-null  object \n",
      " 3   police     100798 non-null  int64  \n",
      " 4   sex        100798 non-null  object \n",
      " 5   age        100780 non-null  float64\n",
      " 6   race       100798 non-null  object \n",
      " 7   place      99414 non-null   object \n",
      " 8   education  99376 non-null   object \n",
      "dtypes: float64(1), int64(3), object(5)\n",
      "memory usage: 6.9+ MB\n"
     ]
    }
   ],
   "source": [
    "df.info()"
   ]
  },
  {
   "cell_type": "code",
   "execution_count": 4,
   "id": "2596f6e1",
   "metadata": {},
   "outputs": [],
   "source": [
    "#drop null values from dataframe\n",
    "new_df = df.dropna(how='any', inplace=False)"
   ]
  },
  {
   "cell_type": "code",
   "execution_count": 5,
   "id": "fbbd880d",
   "metadata": {},
   "outputs": [
    {
     "name": "stdout",
     "output_type": "stream",
     "text": [
      "<class 'pandas.core.frame.DataFrame'>\n",
      "Index: 98015 entries, 0 to 100797\n",
      "Data columns (total 9 columns):\n",
      " #   Column     Non-Null Count  Dtype  \n",
      "---  ------     --------------  -----  \n",
      " 0   year       98015 non-null  int64  \n",
      " 1   month      98015 non-null  int64  \n",
      " 2   intent     98015 non-null  object \n",
      " 3   police     98015 non-null  int64  \n",
      " 4   sex        98015 non-null  object \n",
      " 5   age        98015 non-null  float64\n",
      " 6   race       98015 non-null  object \n",
      " 7   place      98015 non-null  object \n",
      " 8   education  98015 non-null  object \n",
      "dtypes: float64(1), int64(3), object(5)\n",
      "memory usage: 7.5+ MB\n"
     ]
    }
   ],
   "source": [
    "new_df.info()"
   ]
  },
  {
   "cell_type": "code",
   "execution_count": 6,
   "id": "b18e490c",
   "metadata": {},
   "outputs": [],
   "source": [
    "#delete police column\n",
    "del new_df['police']"
   ]
  },
  {
   "cell_type": "code",
   "execution_count": 7,
   "id": "b0cab486",
   "metadata": {},
   "outputs": [
    {
     "data": {
      "text/plain": [
       "month\n",
       "7     8737\n",
       "8     8512\n",
       "5     8420\n",
       "6     8418\n",
       "9     8299\n",
       "4     8207\n",
       "12    8182\n",
       "10    8181\n",
       "3     8078\n",
       "1     8056\n",
       "11    8025\n",
       "2     6900\n",
       "Name: count, dtype: int64"
      ]
     },
     "execution_count": 7,
     "metadata": {},
     "output_type": "execute_result"
    }
   ],
   "source": [
    "new_df['month'].value_counts()"
   ]
  },
  {
   "cell_type": "code",
   "execution_count": 8,
   "id": "b5b37b49",
   "metadata": {},
   "outputs": [
    {
     "data": {
      "text/plain": [
       "year  intent      \n",
       "2012  Suicide         20360\n",
       "      Homicide        11467\n",
       "      Accidental        533\n",
       "      Undetermined      255\n",
       "2013  Suicide         20892\n",
       "      Homicide        11073\n",
       "      Accidental        490\n",
       "      Undetermined      275\n",
       "2014  Suicide         21039\n",
       "      Homicide        10789\n",
       "      Accidental        575\n",
       "      Undetermined      267\n",
       "Name: count, dtype: int64"
      ]
     },
     "execution_count": 8,
     "metadata": {},
     "output_type": "execute_result"
    }
   ],
   "source": [
    "#group by year and intent to track suicides compared to homicides\n",
    "intent_df = new_df.groupby(['year'])['intent']\n",
    "\n",
    "#show the breakdown of numbers\n",
    "intent_df.value_counts()\n",
    "\n"
   ]
  },
  {
   "cell_type": "code",
   "execution_count": 44,
   "id": "a8ea3553",
   "metadata": {},
   "outputs": [
    {
     "name": "stdout",
     "output_type": "stream",
     "text": [
      "count    27974\n",
      "Name: (2012, M), dtype: int64\n"
     ]
    }
   ],
   "source": [
    "#What percent of gun deaths are males vs females\n",
    "sex_df = new_df.groupby(['year'])['sex']\n",
    "#male= sex_df['sex']=='M'.count()\n",
    "#print(male)\n",
    "sexyear_df = pd.DataFrame(sex_df.value_counts())\n",
    "sexyear_df.head()\n",
    "male2012 = sexyear_df.loc[2012,'M']\n",
    "print(male2012)\n",
    "# sexyear_df\n",
    "#male2012"
   ]
  },
  {
   "cell_type": "code",
   "execution_count": null,
   "id": "4b7d7668",
   "metadata": {},
   "outputs": [],
   "source": [
    "#Which education level is most likely to die from a gun"
   ]
  },
  {
   "cell_type": "code",
   "execution_count": null,
   "id": "fdc9527e",
   "metadata": {},
   "outputs": [],
   "source": [
    "#What race is most likely to die from a gun "
   ]
  },
  {
   "cell_type": "code",
   "execution_count": null,
   "id": "b3cd5807",
   "metadata": {},
   "outputs": [],
   "source": [
    "#Are you more likely to die in your own home or the streets"
   ]
  },
  {
   "cell_type": "code",
   "execution_count": null,
   "id": "f2a739d3",
   "metadata": {},
   "outputs": [],
   "source": [
    "#What month do the most gun deaths occur"
   ]
  },
  {
   "cell_type": "code",
   "execution_count": null,
   "id": "142e1f09",
   "metadata": {},
   "outputs": [],
   "source": [
    "#What ages are most likely to die by gun "
   ]
  },
  {
   "cell_type": "code",
   "execution_count": null,
   "id": "fe4e24d7",
   "metadata": {},
   "outputs": [],
   "source": [
    "#Who is most likely to be a victim of gun death\n"
   ]
  }
 ],
 "metadata": {
  "kernelspec": {
   "display_name": "Python 3 (ipykernel)",
   "language": "python",
   "name": "python3"
  },
  "language_info": {
   "codemirror_mode": {
    "name": "ipython",
    "version": 3
   },
   "file_extension": ".py",
   "mimetype": "text/x-python",
   "name": "python",
   "nbconvert_exporter": "python",
   "pygments_lexer": "ipython3",
   "version": "3.11.5"
  }
 },
 "nbformat": 4,
 "nbformat_minor": 5
}
